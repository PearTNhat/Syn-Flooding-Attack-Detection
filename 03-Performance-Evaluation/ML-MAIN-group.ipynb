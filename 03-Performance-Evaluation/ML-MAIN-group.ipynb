{
 "cells": [
  {
   "cell_type": "code",
   "execution_count": 1,
   "metadata": {},
   "outputs": [],
   "source": [
    "import warnings\n",
    "warnings.filterwarnings(\"ignore\")"
   ]
  },
  {
   "cell_type": "code",
   "execution_count": 2,
   "metadata": {},
   "outputs": [],
   "source": [
    "import os\n",
    "import time\n",
    "import sklearn\n",
    "from random import random\n",
    "import numpy as np\n",
    "import pandas as pd\n",
    "from tqdm import tqdm\n",
    "from tabulate import tabulate\n",
    "import pickle\n",
    "import pandas as pd\n",
    "import seaborn as sns\n",
    "import matplotlib.pyplot as plt\n",
    "%matplotlib inline\n",
    "\n",
    "from sklearn.tree import DecisionTreeClassifier\n",
    "\n",
    "evaluate={'Acc':\"Accuracy\", 'b_Acc':\"Balanced Accuracy\", 'F1':\"F1 Score\", 'kap':\"Kappa\", 'ROC':\"Roc\"}"
   ]
  },
  {
   "cell_type": "code",
   "execution_count": 3,
   "metadata": {},
   "outputs": [],
   "source": [
    "from sklearn.ensemble import RandomForestClassifier\n",
    "from sklearn.svm import SVC\n",
    "from sklearn.naive_bayes import GaussianNB"
   ]
  },
  {
   "cell_type": "code",
   "execution_count": 4,
   "metadata": {},
   "outputs": [],
   "source": [
    "def GA(train,test,cols,gen_number=25,outputcsv=\"GA_output.csv\"):\n",
    "    #defining various steps required for the genetic algorithm\n",
    "    # GA adapted from https://datascienceplus.com/genetic-algorithm-in-machine-learning-using-python/\n",
    "    def initilization_of_population(size,n_feat):\n",
    "        population = []\n",
    "        for i in range(size):\n",
    "            chromosome = np.ones(n_feat,dtype=np.bool)\n",
    "            chromosome[:int(0.3*n_feat)]=False\n",
    "            np.random.shuffle(chromosome)\n",
    "            population.append(chromosome)\n",
    "        return population\n",
    "\n",
    "    def fitness_score(population):\n",
    "        scores = []\n",
    "        for chromosome in population:\n",
    "            logmodel.fit(X_train.iloc[:,chromosome],y_train)\n",
    "            predictions = logmodel.predict(X_test.iloc[:,chromosome])\n",
    "            scores.append(sklearn.metrics.f1_score(y_test,predictions,average= \"macro\"))\n",
    "        scores, population = np.array(scores), np.array(population) \n",
    "        inds = np.argsort(scores)\n",
    "        return list(scores[inds][::-1]), list(population[inds,:][::-1])\n",
    "\n",
    "    def selection(pop_after_fit,n_parents):\n",
    "        population_nextgen = []\n",
    "        for i in range(n_parents):\n",
    "            population_nextgen.append(pop_after_fit[i])\n",
    "        return population_nextgen\n",
    "\n",
    "    def crossover(pop_after_sel):\n",
    "        population_nextgen=pop_after_sel\n",
    "        for i in range(len(pop_after_sel)):\n",
    "            child=pop_after_sel[i]\n",
    "            child[3:7]=pop_after_sel[(i+1)%len(pop_after_sel)][3:7]\n",
    "            population_nextgen.append(child)\n",
    "        return population_nextgen\n",
    "\n",
    "    def mutation(pop_after_cross,mutation_rate):\n",
    "        population_nextgen = []\n",
    "        for i in range(0,len(pop_after_cross)):\n",
    "            chromosome = pop_after_cross[i]\n",
    "            for j in range(len(chromosome)):\n",
    "                if random.random() < mutation_rate:\n",
    "                    chromosome[j]= not chromosome[j]\n",
    "            population_nextgen.append(chromosome)\n",
    "        #print(population_nextgen)\n",
    "        return population_nextgen\n",
    "\n",
    "    def generations(size,n_feat,n_parents,mutation_rate,n_gen,X_train,\n",
    "                                       X_test, y_train, y_test):\n",
    "\n",
    "        best_chromo= []\n",
    "        best_score= []\n",
    "        population_nextgen=initilization_of_population(size,n_feat)\n",
    "        for i in range(n_gen):\n",
    "            second=time.time()\n",
    "            scores, pop_after_fit = fitness_score(population_nextgen)\n",
    "            #print(scores[:2])\n",
    "            zaman=time.time()-second\n",
    "\n",
    "            ths.write(f\"{np.mean(scores)},{np.mean(scores)},{zaman}\\n\")\n",
    "            \n",
    "\n",
    "\n",
    "            pop_after_sel = selection(pop_after_fit,n_parents)\n",
    "            pop_after_cross = crossover(pop_after_sel)\n",
    "            population_nextgen = mutation(pop_after_cross,mutation_rate)\n",
    "            best_chromo.append(pop_after_fit[0])\n",
    "            best_score.append(scores[0])\n",
    "        return best_chromo,best_score\n",
    "    \n",
    "    \n",
    "\n",
    "\n",
    "\n",
    "    df = pd.read_csv(train,usecols=cols)#,header=None )\n",
    "    df=df.fillna(0)\n",
    "    #df = df.sample(n = 10000)\n",
    "    X_train =df[df.columns[0:-1]]\n",
    "    #X_train=np.array(X_train)\n",
    "    df[df.columns[-1]] = df[df.columns[-1]].astype('category')\n",
    "    y_train=df[df.columns[-1]].cat.codes  \n",
    "    df = pd.read_csv(test,usecols=cols)#,header=None )\n",
    "    df=df.fillna(0)\n",
    "    #df = df.sample(n = 10000)\n",
    "    X_test =df[df.columns[0:-1]]\n",
    "    #X_test=np.array(X_test)\n",
    "    df[df.columns[-1]] = df[df.columns[-1]].astype('category')\n",
    "    y_test=df[df.columns[-1]].cat.codes  \n",
    "\n",
    "    \n",
    "    ths = open(f\"./{outputcsv}\", \"w\")\n",
    "    ths.write(\"MEAN,STD,TIME\\n\")\n",
    "    logmodel=DecisionTreeClassifier()\n",
    "    #print ('%-30s %-30s %-30s' % (\"MEAN\",\"STD\",\"TIME\"))\n",
    "    chromo,score=generations(size=200,n_feat=X_train.shape[1],n_parents=120,mutation_rate=0.005,\n",
    "                         n_gen=gen_number,X_train=X_train,X_test=X_test,y_train=y_train,y_test=y_test)\n",
    "    #logmodel.fit(X_train.iloc[:,chromo[-1]],y_train)\n",
    "    #predictions = logmodel.predict(X_test.iloc[:,chromo[-1]])\n",
    "    #print(\"F1 Score score after genetic algorithm is= \"+str(sklearn.metrics.f1_score(y_test,predictions,average= \"macro\")))\n",
    "    ths.close()\n",
    "    sonuç=[]\n",
    "    for k,j in enumerate(chromo):\n",
    "        temp=X_train.iloc[:,j]\n",
    "        temp=list(temp.columns)\n",
    "        temp.append(\"Label\")\n",
    "        sonuç.append(temp)\n",
    "    \n",
    "    np.save(outputcsv.replace(\"csv\",\"npy\"), sonuç)\n",
    "    gf = pd.read_csv(outputcsv)\n",
    "    gf=gf[\"MEAN\"].values\n",
    "    gf=np.argmax(gf) \n",
    "    return sonuç[gf],gf"
   ]
  },
  {
   "cell_type": "code",
   "execution_count": null,
   "metadata": {},
   "outputs": [],
   "source": []
  },
  {
   "cell_type": "code",
   "execution_count": 5,
   "metadata": {},
   "outputs": [],
   "source": [
    "def folder(f_name): #this function creates a folder named \"attacks\" in the program directory.\n",
    "    try:\n",
    "        if not os.path.exists(f_name):\n",
    "            os.makedirs(f_name)\n",
    "    except OSError:\n",
    "        print (\"The folder could not be created!\")"
   ]
  },
  {
   "cell_type": "code",
   "execution_count": 6,
   "metadata": {},
   "outputs": [],
   "source": [
    "def find_the_way(path,file_format,con=\"\"):\n",
    "    files_add = []\n",
    "    # r=root, d=directories, f = files\n",
    "    for r, d, f in os.walk(path):\n",
    "        for file in f:\n",
    "            if file_format in file:\n",
    "                if con in file:\n",
    "                    files_add.append(os.path.join(r, file))  \n",
    "    return files_add"
   ]
  },
  {
   "cell_type": "code",
   "execution_count": null,
   "metadata": {},
   "outputs": [],
   "source": [
    "ml_list={\n",
    "\"RF\":{\"SYN\":RandomForestClassifier(bootstrap=False,criterion=\"gini\",max_depth=7,max_features=8,min_samples_split=2,n_estimators=98)},\n",
    "\"SVM\":{\"SYN\":SVC(gamma=1,C=10)},\n",
    "\"NB\":{\"SYN\":GaussianNB(var_smoothing=1.23285e-09)}\n",
    "}\n"
   ]
  },
  {
   "cell_type": "code",
   "execution_count": null,
   "metadata": {},
   "outputs": [],
   "source": []
  },
  {
   "cell_type": "code",
   "execution_count": 8,
   "metadata": {},
   "outputs": [],
   "source": [
    "def target_name(name):\n",
    "    df = pd.read_csv(name,usecols=[\"Label\"])\n",
    "    target_names=sorted(list(df[\"Label\"].unique()))\n",
    "    return target_names"
   ]
  },
  {
   "cell_type": "code",
   "execution_count": 9,
   "metadata": {},
   "outputs": [],
   "source": [
    "folder(\"results\")\n",
    "folder(\"pdfs\")\n",
    "folder(\"results/fin\")\n",
    "folder(\"models\")\n"
   ]
  },
  {
   "cell_type": "markdown",
   "metadata": {},
   "source": [
    "## Calculation of evaluations"
   ]
  },
  {
   "cell_type": "code",
   "execution_count": 10,
   "metadata": {},
   "outputs": [],
   "source": [
    "def score(train_time,test_time,predict,y_test,class_based_results,repeat,cv,dname,ml,sw):\n",
    "    train_time=train_time[0]\n",
    "    test_time=test_time[0]\n",
    "    rc=sklearn.metrics.recall_score(y_test, predict,average= \"macro\")\n",
    "    pr=sklearn.metrics.precision_score(y_test, predict,average= \"macro\")\n",
    "    f_1=sklearn.metrics.f1_score(y_test, predict,average= \"macro\")     \n",
    "    accuracy=sklearn.metrics.accuracy_score(y_test, predict)\n",
    "    accuracy_b=sklearn.metrics.balanced_accuracy_score( y_test,predict)\n",
    "    kappa=sklearn.metrics.cohen_kappa_score(y_test, predict,labels=None, weights=None, sample_weight=None)\n",
    "    try:\n",
    "        roc=sklearn.metrics.roc_auc_score(y_test, predict)\n",
    "    except:roc=0\n",
    "    report = sklearn.metrics.classification_report(y_test, predict, target_names=target_names,output_dict=True)\n",
    "    cr = pd.DataFrame(report).transpose()\n",
    "    line=[dname,sw,repeat,cv,ml,accuracy,accuracy_b,pr,rc,f_1,kappa,roc,train_time,test_time]\n",
    "\n",
    "    if class_based_results.empty:\n",
    "        class_based_results =cr\n",
    "    else:\n",
    "        class_based_results = class_based_results.add(cr, fill_value=0)\n",
    "    return class_based_results,line"
   ]
  },
  {
   "cell_type": "code",
   "execution_count": null,
   "metadata": {},
   "outputs": [],
   "source": [
    "def ML_CV(loop1,loop2,output_csv1,cols,dname,sw):\n",
    "    fold=5\n",
    "    repetition=2\n",
    "    for ii in ml_list:\n",
    "        output_csv=output_csv1.replace(\"ML\",ii)\n",
    "        class_based_results=pd.DataFrame()#\"\" #pd.DataFrame(0, index=np.arange((len(target_names)+3)), columns=[\"f1-score\",\"precision\",\"recall\",\"support\"])\n",
    "        cm=pd.DataFrame()\n",
    "        cv=0\n",
    "        lines=[[\"Dataset\",\"SW\",\"T\",\"CV\",\"ML\",\"Acc\",\"b_Acc\",\"Prec\",\"Rec\",\"F1\",\"kap\",\"ROC\",\"tra-T\",\"test-T\"]]\n",
    "        max_f1=0\n",
    "        for i in range(repetition):\n",
    "\n",
    "            rnd = random()\n",
    "            \n",
    "            kfold = sklearn.model_selection.KFold(n_splits=fold, shuffle=True, random_state=int(rnd*100))  \n",
    "            cv=0\n",
    "            df = pd.read_csv(loop1,usecols=cols)#,header=None )\n",
    "            ##df = df.reset_index(drop=True)\n",
    "            df=df.fillna(0)\n",
    "\n",
    "            #del df[\"MAC\"] # if dataset has MAC colomn please uncomment this line\n",
    "            X =df[df.columns[0:-1]]\n",
    "            X=np.array(X)\n",
    "            df[df.columns[-1]] = df[df.columns[-1]].astype('category')\n",
    "            y=df[df.columns[-1]].cat.codes  \n",
    "            X.shape\n",
    "            for train_index, test_index in kfold.split(X):\n",
    "                X_train, X_test = X[train_index], X[test_index]\n",
    "                y_train, y_test = y[train_index], y[test_index]  \n",
    "                #dname=loop1  [6:-13]  \n",
    "                results_y=[]\n",
    "                cv+=1\n",
    "                results_y.append(y_test)\n",
    "\n",
    "\n",
    "                precision=[]\n",
    "                recall=[]\n",
    "                f1=[]\n",
    "                accuracy=[]\n",
    "                train_time=[]\n",
    "                test_time=[]\n",
    "                total_time=[]\n",
    "                kappa=[]\n",
    "                accuracy_b=[]\n",
    "\n",
    "                    #machine learning algorithm is applied in this section\n",
    "                clf = ml_list[ii][dname]#choose algorithm from ml_list dictionary\n",
    "                second=time.time()\n",
    "                clf.fit(X_train, y_train)\n",
    "                train_time.append(float((time.time()-second)) )\n",
    "                second=time.time()\n",
    "                predict =clf.predict(X_test)\n",
    "                test_time.append(float((time.time()-second)) )\n",
    "                altime=0\n",
    "                class_based_results,line=score(train_time,test_time,predict,y_test,class_based_results,cv,i,dname,ii,sw)\n",
    "                lines.append(line)\n",
    "                df_cm = pd.DataFrame(sklearn.metrics.confusion_matrix(y_test, predict))\n",
    "                if cm.empty:\n",
    "                    cm =df_cm\n",
    "                else:\n",
    "                    cm = cm.add(df_cm, fill_value=0)\n",
    "\n",
    "                if line[9]>max_f1:\n",
    "                    max_f1=line[9]\n",
    "                    pickle.dump(clf, open(f'./models/{ii}_{dname}_{sw}_model.pkl', 'wb'))\n",
    "\n",
    "        \n",
    "        class_based_results=class_based_results/(repetition*fold)\n",
    "        results = pd.DataFrame (lines[1:], columns = lines[0])\n",
    "        results.to_csv(output_csv.replace(\"ML\",ii),index=False)\n",
    "        results=results.round(3)\n",
    "        print (tabulate(results, headers=list(results.columns)))\n",
    "        print()\n",
    "        \n",
    "        print (tabulate(class_based_results, headers=list(class_based_results.columns)))\n",
    "        class_based_results.to_csv(output_csv.replace(\".csv\",\"class_based_results.csv\"))\n",
    "        if True:\n",
    "            cm=cm//(repetition*fold)\n",
    "            graph_name=output_csv[:-4]+\"_confusion matrix.pdf\"   \n",
    "            plt.figure(figsize = (5,3.5))\n",
    "            sns.heatmap(cm,xticklabels=target_names, yticklabels=target_names, annot=True, fmt='g')\n",
    "            plt.savefig(graph_name,bbox_inches='tight')#, dpi=400)\n",
    "            plt.show()\n",
    "            #print(cm)\n",
    "            print(\"\\n\\n\\n\")             \n"
   ]
  },
  {
   "cell_type": "code",
   "execution_count": null,
   "metadata": {},
   "outputs": [],
   "source": [
    "def ML(loop1,loop2,output_csv1,cols,dname,sw):\n",
    "    fold=1\n",
    "    repetition=10\n",
    "    for ii in ml_list:\n",
    "        output_csv=output_csv1.replace(\"ML\",ii)\n",
    "        class_based_results=pd.DataFrame()#\"\" #pd.DataFrame(0, index=np.arange((len(target_names)+3)), columns=[\"f1-score\",\"precision\",\"recall\",\"support\"])\n",
    "        cm=pd.DataFrame()\n",
    "        cv=0\n",
    "        lines=[[\"Dataset\",\"SW\",\"T\",\"CV\",\"ML\",\"Acc\",\"b_Acc\",\"Prec\",\"Rec\",\"F1\",\"kap\",\"ROC\",\"tra-T\",\"test-T\"]]\n",
    "        max_f1=0\n",
    "        for i in range(repetition):\n",
    "\n",
    "            #rnd = random()\n",
    "            \n",
    "            #kfold = sklearn.model_selection.KFold(n_splits=fold, shuffle=True, random_state=int(rnd*100))  \n",
    "            cv=0\n",
    "            df = pd.read_csv(loop1,usecols=cols)#,header=None )\n",
    "            df=df.fillna(0)\n",
    "            X_train =df[df.columns[0:-1]]\n",
    "            X_train=np.array(X_train)\n",
    "            df[df.columns[-1]] = df[df.columns[-1]].astype('category')\n",
    "            y_train=df[df.columns[-1]].cat.codes  \n",
    "\n",
    "\n",
    "            df = pd.read_csv(loop2,usecols=cols)#,header=None )\n",
    "            df=df.fillna(0)\n",
    "            X_test =df[df.columns[0:-1]]\n",
    "            X_test=np.array(X_test)\n",
    "            df[df.columns[-1]] = df[df.columns[-1]].astype('category')\n",
    "            y_test=df[df.columns[-1]].cat.codes  \n",
    "\n",
    "            #dname=loop1  [6:-13]  \n",
    "            results_y=[]\n",
    "            cv+=1\n",
    "            results_y.append(y_test)\n",
    "\n",
    "\n",
    "            precision=[]\n",
    "            recall=[]\n",
    "            f1=[]\n",
    "            accuracy=[]\n",
    "            train_time=[]\n",
    "            test_time=[]\n",
    "            total_time=[]\n",
    "            kappa=[]\n",
    "            accuracy_b=[]\n",
    "\n",
    "                #machine learning algorithm is applied in this section\n",
    "            clf = ml_list[ii][dname]#choose algorithm from ml_list dictionary\n",
    "            second=time.time()\n",
    "            clf.fit(X_train, y_train)\n",
    "            train_time.append(float((time.time()-second)) )\n",
    "            second=time.time()\n",
    "            predict =clf.predict(X_test)\n",
    "            test_time.append(float((time.time()-second)) )\n",
    "\n",
    "            altime=0\n",
    "            class_based_results,line=score(train_time,test_time,predict,y_test,class_based_results,cv,i,dname,ii,sw)\n",
    "            lines.append(line)\n",
    "            df_cm = pd.DataFrame(sklearn.metrics.confusion_matrix(y_test, predict))\n",
    "            if cm.empty:\n",
    "                cm =df_cm\n",
    "            else:\n",
    "                cm = cm.add(df_cm, fill_value=0)\n",
    "\n",
    "            if line[9]>max_f1:\n",
    "                max_f1=line[9]\n",
    "                pickle.dump(clf, open(f'./models/{ii}_{dname}_{sw}_model.pkl', 'wb'))\n",
    "                \n",
    "        \n",
    "            class_based_results=class_based_results/(repetition*fold)\n",
    "            results = pd.DataFrame (lines[1:], columns = lines[0])\n",
    "            results.to_csv(output_csv.replace(\"ML\",ii),index=False)\n",
    "            results=results.round(3)\n",
    "            print (tabulate(results, headers=list(results.columns)))\n",
    "            print()\n",
    "            \n",
    "            print (tabulate(class_based_results, headers=list(class_based_results.columns)))\n",
    "            class_based_results.to_csv(output_csv.replace(\".csv\",\"class_based_results.csv\"))\n",
    "            if True:\n",
    "                cm=cm//(repetition*fold)\n",
    "                graph_name=output_csv[:-4]+\"_confusion matrix.pdf\"   \n",
    "                plt.figure(figsize = (5,3.5))\n",
    "                sns.heatmap(cm,xticklabels=target_names, yticklabels=target_names, annot=True, fmt='g')\n",
    "                plt.savefig(graph_name,bbox_inches='tight')#, dpi=400)\n",
    "                plt.show()\n",
    "                #print(cm)\n",
    "                print(\"\\n\\n\\n\")             \n"
   ]
  },
  {
   "cell_type": "markdown",
   "metadata": {},
   "source": [
    "# GA output"
   ]
  },
  {
   "cell_type": "code",
   "execution_count": 13,
   "metadata": {},
   "outputs": [],
   "source": [
    "import json\n",
    "with open('GA_output_ET.json', 'r') as fp:\n",
    "    feature_list = json.load(fp)"
   ]
  },
  {
   "cell_type": "markdown",
   "metadata": {},
   "source": [
    "# CV"
   ]
  },
  {
   "cell_type": "code",
   "execution_count": 20,
   "metadata": {},
   "outputs": [],
   "source": [
    "file_list={\n",
    "'./INPUT/SW/DoS-SYN-1.csv':\"SYN\",\n",
    "}"
   ]
  },
  {
   "cell_type": "code",
   "execution_count": 27,
   "metadata": {
    "scrolled": true
   },
   "outputs": [
    {
     "name": "stdout",
     "output_type": "stream",
     "text": [
      "./INPUT/SW/DoS-SYN-1.csv\n",
      "['ts', 'IP_flags', 'IP_DF', 'TCP_dataofs', 'TCP_SYN', 'TCP_ACK', 'sport_class', 'dst_IP_diversity', 'dst_port_diversity', 'pck_size_sum_of_EW', 'ts_diff', 'ts_std_WE', 'ts_sum_of_EW', 'TCP_window_std_WE', 'pck_size_mean_2', 'ts_mean_2', 'ts_std_2', 'TCP_window_mean_2', 'TCP_SYN_sum', 'TCP_ACK_sum', 'TCP_SYN_ratio', 'TCP_ACK_SR', 'ts_mean_6', 'ts_std_6', 'pck_size_mean_9', 'ts_mean_9', 'ts_std_9', 'TCP_window_mean_9', 'TCP_ACK_R', 'Label']\n",
      "    Dataset      SW    T    CV  ML      Acc    b_Acc    Prec    Rec     F1    kap    ROC    tra-T    test-T\n",
      "--  ---------  ----  ---  ----  ----  -----  -------  ------  -----  -----  -----  -----  -------  --------\n",
      " 0  SYN           0    1     0  RF    1        1       1      1      1      0.999  1        1.222     0.019\n",
      " 1  SYN           0    2     0  RF    1        1       1      1      1      1      1        1.178     0.018\n",
      " 2  SYN           0    3     0  RF    0.999    0.999   0.999  0.999  0.999  0.998  0.999    1.111     0.019\n",
      " 3  SYN           0    4     0  RF    1        1       1      1      1      1      1        1.16      0.018\n",
      " 4  SYN           0    5     0  RF    1        1       1      1      1      0.999  1        1.223     0.019\n",
      " 5  SYN           0    1     1  RF    1        1       1      1      1      1      1        1.167     0.019\n",
      " 6  SYN           0    2     1  RF    1        1       0.999  1      1      0.999  1        1.134     0.019\n",
      " 7  SYN           0    3     1  RF    1        1       1      1      1      1      1        1.136     0.019\n",
      " 8  SYN           0    4     1  RF    1        1       0.999  1      1      0.999  1        1.212     0.018\n",
      " 9  SYN           0    5     1  RF    0.999    0.999   0.999  0.999  0.999  0.999  0.999    1.049     0.017\n",
      "\n",
      "                precision    recall    f1-score      support\n",
      "------------  -----------  --------  ----------  -----------\n",
      "0                0.999865  0.999412    0.999638  4417\n",
      "1                0.999304  0.999839    0.999571  3740.6\n",
      "accuracy         0.999608  0.999608    0.999608     0.999608\n",
      "macro avg        0.999584  0.999625    0.999605  8157.6\n",
      "weighted avg     0.999608  0.999608    0.999608  8157.6\n"
     ]
    },
    {
     "data": {
      "image/png": "[encoded data removed]",
      "text/plain": [
       "<Figure size 500x350 with 2 Axes>"
      ]
     },
     "metadata": {},
     "output_type": "display_data"
    },
    {
     "name": "stdout",
     "output_type": "stream",
     "text": [
      "\n",
      "\n",
      "\n",
      "\n",
      "    Dataset      SW    T    CV  ML      Acc    b_Acc    Prec    Rec     F1    kap    ROC    tra-T    test-T\n",
      "--  ---------  ----  ---  ----  ----  -----  -------  ------  -----  -----  -----  -----  -------  --------\n",
      " 0  SYN           0    1     0  NB    0.993    0.993   0.993  0.993  0.993  0.986  0.993    0.012     0.003\n",
      " 1  SYN           0    2     0  NB    0.993    0.994   0.993  0.994  0.993  0.987  0.994    0.013     0.004\n",
      " 2  SYN           0    3     0  NB    0.994    0.995   0.994  0.995  0.994  0.989  0.995    0.012     0.004\n",
      " 3  SYN           0    4     0  NB    0.994    0.994   0.994  0.994  0.994  0.988  0.994    0.013     0.003\n",
      " 4  SYN           0    5     0  NB    0.993    0.993   0.993  0.993  0.993  0.986  0.993    0.013     0.003\n",
      " 5  SYN           0    1     1  NB    0.993    0.993   0.993  0.993  0.993  0.986  0.993    0.013     0.004\n",
      " 6  SYN           0    2     1  NB    0.994    0.994   0.994  0.994  0.994  0.988  0.994    0.015     0.004\n",
      " 7  SYN           0    3     1  NB    0.994    0.994   0.993  0.994  0.994  0.987  0.994    0.013     0.004\n",
      " 8  SYN           0    4     1  NB    0.994    0.994   0.994  0.994  0.994  0.988  0.994    0.012     0.003\n",
      " 9  SYN           0    5     1  NB    0.994    0.994   0.993  0.994  0.994  0.987  0.994    0.013     0.004\n",
      "\n",
      "                precision    recall    f1-score      support\n",
      "------------  -----------  --------  ----------  -----------\n",
      "0                0.997154  0.991059    0.994097  4417\n",
      "1                0.989515  0.996658    0.993073  3740.6\n",
      "accuracy         0.993626  0.993626    0.993626     0.993626\n",
      "macro avg        0.993334  0.993858    0.993585  8157.6\n",
      "weighted avg     0.993652  0.993626    0.993627  8157.6\n"
     ]
    },
    {
     "data": {
      "image/png": "[encoded data removed]",
      "text/plain": [
       "<Figure size 500x350 with 2 Axes>"
      ]
     },
     "metadata": {},
     "output_type": "display_data"
    },
    {
     "name": "stdout",
     "output_type": "stream",
     "text": [
      "\n",
      "\n",
      "\n",
      "\n"
     ]
    }
   ],
   "source": [
    "folder(\"results/cv/\")\n",
    "\n",
    "for file in file_list:\n",
    "    print(file)\n",
    "    feature=feature_list[file_list[file]]\n",
    "    train=file\n",
    "    test=file\n",
    "    #feature,_=GA(train,test,features,gen_number=25,outputcsv=f\"{file}_DT_chosed_GA_output.csv\")\n",
    "    print(feature)\n",
    "    output_csv=f\"./results/cv/{file_list[file]}_VAL_chosed_output_ML_.csv\"\n",
    "    # target_names=[\"0\",file_list[file]]\n",
    "    target_names=[0,1]\n",
    "    ML_CV(train,test,output_csv,feature,file_list[file],0)   \n"
   ]
  },
  {
   "cell_type": "markdown",
   "metadata": {},
   "source": [
    "# SS"
   ]
  },
  {
   "cell_type": "code",
   "execution_count": null,
   "metadata": {},
   "outputs": [],
   "source": [
    "file_list={\n",
    "    \"SYN\":['./INPUT/SM/DoS-SYN-1.csv','./INPUT/SW/DoS-SYN-3.csv'],\n",
    "# \"SYN_ARP\":['./train-data/train_syn_arp_data.csv','./test/syn-arp-attack-train.csv'],\n",
    "# \"HTTP\":['./INPUT/SM/MB-HTTP-4.csv','./INPUT/SW/MB-HTTP-1.csv'],\n",
    "# \"ACK\":['./INPUT/SM/MB-ACK-4.csv','./INPUT/SW/MB-ACK-1.csv'],\n",
    "# \"UDP\":['./INPUT/SM/MB-UDP-4.csv','./INPUT/SW/MB-UDP-1.csv'],\n",
    "# \"ARP\":['./INPUT/SM/MitM-ARP-6.csv','./INPUT/SW/MitM-ARP-4.csv'],  \n",
    "# \"SP\":['./INPUT/SM/Scan-Port-3.csv','./INPUT/SW/Scan-Port-4.csv'],\n",
    "# \"BF\":['./INPUT/SM/MB-BF-5.csv','./INPUT/SW/MB-BF-3.csv'],\n",
    "# \"OS\":['./INPUT/SM/Scan-OS-3.csv','./INPUT/SW/Scan-OS-6.csv'],\n",
    "# \"SCHD\":['./INPUT/SM/Scan-HDis-3.csv','./INPUT/SW/MB-HDis-2.csv'],\n",
    "# \"MHDis\":['./INPUT/SM/MB-HDis-3.csv','./INPUT/SW/Scan-HDis-4.csv' ]\n",
    "}\n",
    " "
   ]
  },
  {
   "cell_type": "code",
   "execution_count": null,
   "metadata": {},
   "outputs": [],
   "source": []
  },
  {
   "cell_type": "code",
   "execution_count": 25,
   "metadata": {
    "scrolled": true
   },
   "outputs": [
    {
     "name": "stdout",
     "output_type": "stream",
     "text": [
      "SYN\n",
      "['ts', 'IP_flags', 'IP_DF', 'TCP_dataofs', 'TCP_SYN', 'TCP_ACK', 'sport_class', 'dst_IP_diversity', 'dst_port_diversity', 'pck_size_sum_of_EW', 'ts_diff', 'ts_std_WE', 'ts_sum_of_EW', 'TCP_window_std_WE', 'pck_size_mean_2', 'ts_mean_2', 'ts_std_2', 'TCP_window_mean_2', 'TCP_SYN_sum', 'TCP_ACK_sum', 'TCP_SYN_ratio', 'TCP_ACK_SR', 'ts_mean_6', 'ts_std_6', 'pck_size_mean_9', 'ts_mean_9', 'ts_std_9', 'TCP_window_mean_9', 'TCP_ACK_R', 'Label']\n",
      "    Dataset      SW    T    CV  ML      Acc    b_Acc    Prec    Rec     F1    kap    ROC    tra-T    test-T\n",
      "--  ---------  ----  ---  ----  ----  -----  -------  ------  -----  -----  -----  -----  -------  --------\n",
      " 0  SYN           0    1     0  RF    0.997    0.997   0.997  0.997  0.997  0.995  0.997    1.185     0.063\n",
      " 1  SYN           0    1     1  RF    0.976    0.972   0.98   0.972  0.975  0.951  0.972    1.151     0.067\n",
      " 2  SYN           0    1     2  RF    0.976    0.972   0.98   0.972  0.975  0.95   0.972    1.151     0.064\n",
      " 3  SYN           0    1     3  RF    0.976    0.972   0.98   0.972  0.975  0.951  0.972    1.174     0.067\n",
      " 4  SYN           0    1     4  RF    0.997    0.997   0.997  0.997  0.997  0.994  0.997    1.197     0.064\n",
      " 5  SYN           0    1     5  RF    0.997    0.997   0.998  0.997  0.997  0.995  0.997    1.235     0.066\n",
      " 6  SYN           0    1     6  RF    0.976    0.972   0.98   0.972  0.975  0.951  0.972    1.22      0.065\n",
      " 7  SYN           0    1     7  RF    0.95     0.942   0.96   0.942  0.948  0.897  0.942    1.166     0.062\n",
      " 8  SYN           0    1     8  RF    0.997    0.997   0.998  0.997  0.997  0.995  0.997    1.126     0.063\n",
      " 9  SYN           0    1     9  RF    0.976    0.972   0.98   0.972  0.975  0.95   0.972    1.261     0.064\n",
      "\n",
      "                precision    recall    f1-score       support\n",
      "------------  -----------  --------  ----------  ------------\n",
      "0                0.971117  0.998938    0.984683  22880\n",
      "1                0.998501  0.958842    0.977949  16862\n",
      "accuracy         0.981926  0.981926    0.981926      0.981926\n",
      "macro avg        0.984809  0.97889     0.981316  39742\n",
      "weighted avg     0.982736  0.981926    0.981826  39742\n"
     ]
    },
    {
     "data": {
      "image/png": "[encoded data removed]",
      "text/plain": [
       "<Figure size 500x350 with 2 Axes>"
      ]
     },
     "metadata": {},
     "output_type": "display_data"
    },
    {
     "name": "stdout",
     "output_type": "stream",
     "text": [
      "\n",
      "\n",
      "\n",
      "\n",
      "    Dataset      SW    T    CV  ML      Acc    b_Acc    Prec    Rec     F1    kap    ROC    tra-T    test-T\n",
      "--  ---------  ----  ---  ----  ----  -----  -------  ------  -----  -----  -----  -----  -------  --------\n",
      " 0  SYN           0    1     0  NB    0.945    0.937   0.953  0.937  0.943  0.886  0.937    0.016     0.018\n",
      " 1  SYN           0    1     1  NB    0.945    0.937   0.953  0.937  0.943  0.886  0.937    0.017     0.017\n",
      " 2  SYN           0    1     2  NB    0.945    0.937   0.953  0.937  0.943  0.886  0.937    0.016     0.018\n",
      " 3  SYN           0    1     3  NB    0.945    0.937   0.953  0.937  0.943  0.886  0.937    0.016     0.017\n",
      " 4  SYN           0    1     4  NB    0.945    0.937   0.953  0.937  0.943  0.886  0.937    0.022     0.023\n",
      " 5  SYN           0    1     5  NB    0.945    0.937   0.953  0.937  0.943  0.886  0.937    0.02      0.02\n",
      " 6  SYN           0    1     6  NB    0.945    0.937   0.953  0.937  0.943  0.886  0.937    0.018     0.024\n",
      " 7  SYN           0    1     7  NB    0.945    0.937   0.953  0.937  0.943  0.886  0.937    0.016     0.023\n",
      " 8  SYN           0    1     8  NB    0.945    0.937   0.953  0.937  0.943  0.886  0.937    0.017     0.017\n",
      " 9  SYN           0    1     9  NB    0.945    0.937   0.953  0.937  0.943  0.886  0.937    0.02      0.021\n",
      "\n",
      "                precision    recall    f1-score       support\n",
      "------------  -----------  --------  ----------  ------------\n",
      "0                0.91992   0.990603    0.953954  22880\n",
      "1                0.985765  0.882991    0.931552  16862\n",
      "accuracy         0.944945  0.944945    0.944945      0.944945\n",
      "macro avg        0.952843  0.936797    0.942753  39742\n",
      "weighted avg     0.947858  0.944945    0.944449  39742\n"
     ]
    },
    {
     "data": {
      "image/png": "[encoded data removed]",
      "text/plain": [
       "<Figure size 500x350 with 2 Axes>"
      ]
     },
     "metadata": {},
     "output_type": "display_data"
    },
    {
     "name": "stdout",
     "output_type": "stream",
     "text": [
      "\n",
      "\n",
      "\n",
      "\n"
     ]
    }
   ],
   "source": [
    "folder(\"results/val/\")\n",
    "\n",
    "for file in file_list:\n",
    "    print(file)\n",
    "    feature=feature_list[file]\n",
    "    train=file_list[file][0]\n",
    "    test=file_list[file][1]\n",
    "    #feature,_=GA(train,test,features,gen_number=25,outputcsv=f\"{file}_DT_chosed_GA_output.csv\")\n",
    "    print(feature)\n",
    "    output_csv=f\"./results/val/{file}_VAL_chosed_output_ML_.csv\"\n",
    "    # target_names=[\"Benign\",file]\n",
    "    target_names=[0,1]\n",
    "    ML(train,test,output_csv,feature,file,0)   \n"
   ]
  },
  {
   "cell_type": "code",
   "execution_count": 18,
   "metadata": {},
   "outputs": [
    {
     "name": "stdout",
     "output_type": "stream",
     "text": [
      "Sleep time:  3600 seconds\n",
      "Woke up after:  3 seconds\n"
     ]
    }
   ],
   "source": [
    "import time\n",
    "\n",
    "# sleep for 3 seconds\n",
    "print('Sleep time: ', str(3600), 'seconds')\n",
    "time.sleep(3600)\n",
    "print('Woke up after: ', str(3), 'seconds')\n"
   ]
  },
  {
   "cell_type": "code",
   "execution_count": null,
   "metadata": {},
   "outputs": [],
   "source": []
  },
  {
   "cell_type": "markdown",
   "metadata": {},
   "source": [
    "# TEST"
   ]
  },
  {
   "cell_type": "code",
   "execution_count": null,
   "metadata": {},
   "outputs": [],
   "source": []
  },
  {
   "cell_type": "code",
   "execution_count": 14,
   "metadata": {},
   "outputs": [],
   "source": [
    "file_list={\n",
    "'SYN': ['./INPUT/SM/DoS-SYN-1.csv',  './INPUT/TEST/small_Edge_IIoT_DDoS_TCP_SYN_Flood_Attacks_00000_20211124180237._SW.csv'],\n",
    "#  'HTTP': ['./INPUT/SM/MB-HTTP-4.csv',  './INPUT/TEST/NetatmoCamHTTPFlood_1_SW.csv'],\n",
    "# 'ACK': ['./INPUT/SM/MB-ACK-4.csv',  './INPUT/TEST/NetatmoCamTCPFlood_3_SW.csv'],\n",
    "#  'UDP': ['./INPUT/SM/MB-UDP-4.csv',  './INPUT/TEST/Bot_IoT_UDP_DDoS_00001._SW.csv'],\n",
    "#  'ARP': ['./INPUT/SM/MitM-ARP-6.csv',   './INPUT/TEST/Kitsune_ARP_MitM._SW.csv'],\n",
    "#  'SP': ['./INPUT/SM/Scan-Port-3.csv', './INPUT/TEST/IoT_ENV_[Port_scan]Google_Home_Mini_SW.csv'],\n",
    "#  'BF': ['./INPUT/SM/MB-BF-5.csv',  './INPUT/TEST/AmcrestCamBruteForce_1_SW.csv'],\n",
    "#  'OS': ['./INPUT/SM/Scan-OS-3.csv',  './INPUT/TEST/IoT_ENV_[OS_Service_Detection]Google_Home_Mini_SW.csv'],\n",
    "# \"SCHD\":['./INPUT/SM/Scan-HDis-3.csv','./INPUT/SW/MB-HDis-3.csv'],\n",
    "# \"MHDis\":['./INPUT/SM/MB-HDis-3.csv','./INPUT/SW/Scan-HDis-3.csv' ]\n",
    "}"
   ]
  },
  {
   "cell_type": "code",
   "execution_count": null,
   "metadata": {},
   "outputs": [],
   "source": []
  },
  {
   "cell_type": "code",
   "execution_count": null,
   "metadata": {},
   "outputs": [],
   "source": []
  },
  {
   "cell_type": "code",
   "execution_count": 15,
   "metadata": {
    "scrolled": true
   },
   "outputs": [
    {
     "name": "stdout",
     "output_type": "stream",
     "text": [
      "SYN\n",
      "['ts', 'IP_flags', 'IP_DF', 'TCP_dataofs', 'TCP_SYN', 'TCP_ACK', 'sport_class', 'dst_IP_diversity', 'dst_port_diversity', 'pck_size_sum_of_EW', 'ts_diff', 'ts_std_WE', 'ts_sum_of_EW', 'TCP_window_std_WE', 'pck_size_mean_2', 'ts_mean_2', 'ts_std_2', 'TCP_window_mean_2', 'TCP_SYN_sum', 'TCP_ACK_sum', 'TCP_SYN_ratio', 'TCP_ACK_SR', 'ts_mean_6', 'ts_std_6', 'pck_size_mean_9', 'ts_mean_9', 'ts_std_9', 'TCP_window_mean_9', 'TCP_ACK_R', 'Label']\n",
      "    Dataset      SW    T    CV  ML      Acc    b_Acc    Prec    Rec     F1    kap    ROC    tra-T    test-T\n",
      "--  ---------  ----  ---  ----  ----  -----  -------  ------  -----  -----  -----  -----  -------  --------\n",
      " 0  SYN           1    1     0  RF    0.915    0.927   0.916  0.927  0.915  0.83   0.927    1.313     0.194\n",
      " 1  SYN           1    1     1  RF    0.915    0.927   0.915  0.927  0.914  0.83   0.927    1.244     0.189\n",
      " 2  SYN           1    1     2  RF    0.915    0.927   0.916  0.927  0.915  0.83   0.927    1.177     0.183\n",
      " 3  SYN           1    1     3  RF    0.915    0.927   0.916  0.927  0.915  0.83   0.927    1.181     0.186\n",
      " 4  SYN           1    1     4  RF    0.917    0.928   0.917  0.928  0.916  0.833  0.928    1.242     0.19\n",
      " 5  SYN           1    1     5  RF    0.917    0.928   0.917  0.928  0.916  0.833  0.928    1.13      0.195\n",
      " 6  SYN           1    1     6  RF    0.915    0.927   0.916  0.927  0.915  0.83   0.927    1.139     0.181\n",
      " 7  SYN           1    1     7  RF    0.917    0.928   0.917  0.928  0.916  0.833  0.928    1.158     0.212\n",
      " 8  SYN           1    1     8  RF    0.915    0.927   0.915  0.927  0.914  0.83   0.927    1.317     0.261\n",
      " 9  SYN           1    1     9  RF    0.917    0.928   0.917  0.928  0.916  0.833  0.928    1.321     0.245\n",
      "\n",
      "                precision    recall    f1-score        support\n",
      "------------  -----------  --------  ----------  -------------\n",
      "0                0.832091  1           0.908351   41791\n",
      "1                1         0.855122    0.921903   58209\n",
      "accuracy         0.915668  0.915668    0.915668       0.915668\n",
      "macro avg        0.916045  0.927561    0.915127  100000\n",
      "weighted avg     0.929829  0.915668    0.916239  100000\n"
     ]
    },
    {
     "data": {
      "image/png": "[encoded data removed]",
      "text/plain": [
       "<Figure size 500x350 with 2 Axes>"
      ]
     },
     "metadata": {},
     "output_type": "display_data"
    },
    {
     "name": "stdout",
     "output_type": "stream",
     "text": [
      "\n",
      "\n",
      "\n",
      "\n",
      "    Dataset      SW    T    CV  ML      Acc    b_Acc    Prec    Rec     F1    kap    ROC    tra-T    test-T\n",
      "--  ---------  ----  ---  ----  ----  -----  -------  ------  -----  -----  -----  -----  -------  --------\n",
      " 0  SYN           1    1     0  NB    0.997    0.997   0.997  0.997  0.997  0.994  0.997    0.014     0.043\n",
      " 1  SYN           1    1     1  NB    0.997    0.997   0.997  0.997  0.997  0.994  0.997    0.014     0.037\n",
      " 2  SYN           1    1     2  NB    0.997    0.997   0.997  0.997  0.997  0.994  0.997    0.016     0.044\n",
      " 3  SYN           1    1     3  NB    0.997    0.997   0.997  0.997  0.997  0.994  0.997    0.015     0.039\n",
      " 4  SYN           1    1     4  NB    0.997    0.997   0.997  0.997  0.997  0.994  0.997    0.016     0.04\n",
      " 5  SYN           1    1     5  NB    0.997    0.997   0.997  0.997  0.997  0.994  0.997    0.018     0.043\n",
      " 6  SYN           1    1     6  NB    0.997    0.997   0.997  0.997  0.997  0.994  0.997    0.016     0.039\n",
      " 7  SYN           1    1     7  NB    0.997    0.997   0.997  0.997  0.997  0.994  0.997    0.016     0.037\n",
      " 8  SYN           1    1     8  NB    0.997    0.997   0.997  0.997  0.997  0.994  0.997    0.014     0.038\n",
      " 9  SYN           1    1     9  NB    0.997    0.997   0.997  0.997  0.997  0.994  0.997    0.017     0.044\n",
      "\n",
      "                precision    recall    f1-score       support\n",
      "------------  -----------  --------  ----------  ------------\n",
      "0                0.995324  0.998277    0.996798   41791\n",
      "1                0.99876   0.996633    0.997695   58209\n",
      "accuracy         0.99732   0.99732     0.99732        0.99732\n",
      "macro avg        0.997042  0.997455    0.997247  100000\n",
      "weighted avg     0.997324  0.99732     0.997321  100000\n"
     ]
    },
    {
     "data": {
      "image/png": "[encoded data removed]",
      "text/plain": [
       "<Figure size 500x350 with 2 Axes>"
      ]
     },
     "metadata": {},
     "output_type": "display_data"
    },
    {
     "name": "stdout",
     "output_type": "stream",
     "text": [
      "\n",
      "\n",
      "\n",
      "\n"
     ]
    }
   ],
   "source": [
    "folder(\"results/test/\")\n",
    "\n",
    "for file in file_list:\n",
    "    print(file)\n",
    "    #if \"UDP\" in file:        feature=feature_list[\"UDP\"]\n",
    "    #else:        feature=feature_list[file]\n",
    "    feature=feature_list[file]\n",
    "    train=file_list[file][0]\n",
    "    test=file_list[file][1]\n",
    "    #feature,_=GA(train,test,features,gen_number=25,outputcsv=f\"{file}_DT_chosed_GA_output.csv\")\n",
    "    print(feature)\n",
    "    output_csv=f\"./results/test/{file}_TEST_chosed_output_ML_.csv\"\n",
    "    # target_names=[0,1]\n",
    "    target_names=[0,1]\n",
    "    ML(train,test,output_csv,feature,file,1)  \n"
   ]
  },
  {
   "cell_type": "code",
   "execution_count": 22,
   "metadata": {},
   "outputs": [
    {
     "name": "stdout",
     "output_type": "stream",
     "text": [
      "2\n"
     ]
    }
   ],
   "source": [
    "print(2)"
   ]
  },
  {
   "cell_type": "code",
   "execution_count": null,
   "metadata": {},
   "outputs": [],
   "source": [
    "files_add=find_the_way(\"./results/test/\",\"_.csv\")\n",
    "files_add\n",
    "\n",
    "results=[['Attack', 'ML','Acc', 'b_Acc', 'Prec', 'Rec',\n",
    "       'F1', 'kap', 'ROC', 'tra-T', 'test-T']]\n",
    "\n",
    "\n",
    "    \n",
    "for i in tqdm(files_add):\n",
    "    df=pd.read_csv(i)\n",
    "    temp=df.values\n",
    "    df=df.mean()\n",
    "    df=list(df.values)\n",
    "    temp=[temp[0][0],temp[0][4]]\n",
    "    temp=temp+df[3:]\n",
    "    results.append(temp)\n",
    "results = pd.DataFrame (results[1:], columns = results[0])\n",
    "results.to_csv(\"MEAN-resluts.csv\",index=False)\n",
    "print (tabulate(results, headers=list(results.columns)))"
   ]
  },
  {
   "cell_type": "code",
   "execution_count": null,
   "metadata": {},
   "outputs": [],
   "source": [
    "df=pd.read_csv(\"MEAN-resluts.csv\")\n",
    "bos=pd.DataFrame()\n",
    "for i in df[\"Attack\"].unique():\n",
    "    small=df[df[\"Attack\"]==i]\n",
    "    bos[i]=small[\"F1\"].values\n",
    "    print(i)\n",
    "bos.to_csv(\"tablo.csv\",index=False)"
   ]
  },
  {
   "cell_type": "code",
   "execution_count": null,
   "metadata": {},
   "outputs": [],
   "source": []
  },
  {
   "cell_type": "code",
   "execution_count": null,
   "metadata": {},
   "outputs": [],
   "source": []
  },
  {
   "cell_type": "code",
   "execution_count": null,
   "metadata": {},
   "outputs": [],
   "source": []
  },
  {
   "cell_type": "code",
   "execution_count": null,
   "metadata": {},
   "outputs": [],
   "source": []
  }
 ],
 "metadata": {
  "kernelspec": {
   "display_name": "base",
   "language": "python",
   "name": "python3"
  },
  "language_info": {
   "codemirror_mode": {
    "name": "ipython",
    "version": 3
   },
   "file_extension": ".py",
   "mimetype": "text/x-python",
   "name": "python",
   "nbconvert_exporter": "python",
   "pygments_lexer": "ipython3",
   "version": "3.12.3"
  }
 },
 "nbformat": 4,
 "nbformat_minor": 2
}
