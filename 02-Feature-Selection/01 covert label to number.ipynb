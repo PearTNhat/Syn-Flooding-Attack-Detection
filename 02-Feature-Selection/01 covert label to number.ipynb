{
 "cells": [
  {
   "cell_type": "code",
   "execution_count": 2,
   "metadata": {},
   "outputs": [],
   "source": [
    "import pandas as pd"
   ]
  },
  {
   "cell_type": "code",
   "execution_count": 3,
   "metadata": {},
   "outputs": [
    {
     "name": "stderr",
     "output_type": "stream",
     "text": [
      "C:\\Users\\NHAT\\AppData\\Local\\Temp\\ipykernel_17076\\1746024291.py:3: DtypeWarning: Columns (39) have mixed types. Specify dtype option on import or set low_memory=False.\n",
      "  df = pd.read_csv('INPUT/VAL/VAL-SYN.csv')\n"
     ]
    },
    {
     "name": "stdout",
     "output_type": "stream",
     "text": [
      "         ts          Ether_dst          Ether_src          IP_src  \\\n",
      "0  0.000000  a8:66:7f:0e:3f:54  88:36:6c:d7:1c:56  216.58.197.131   \n",
      "1  0.009512  a8:66:7f:0e:3f:54  88:36:6c:d7:1c:56  216.58.197.131   \n",
      "2  0.009655  a8:66:7f:0e:3f:54  88:36:6c:d7:1c:56  216.58.197.131   \n",
      "3  0.034359  a8:66:7f:0e:3f:54  88:36:6c:d7:1c:56  216.58.197.131   \n",
      "4  0.052978  a8:66:7f:0e:3f:54  88:36:6c:d7:1c:56  216.58.197.131   \n",
      "\n",
      "         IP_dst  pck_size  Ether_type  LLC_dsap  LLC_ssap  LLC_ctrl  ...  \\\n",
      "0  192.168.0.14        58        2048         0         0         0  ...   \n",
      "1  192.168.0.14      1378        2048         0         0         0  ...   \n",
      "2  192.168.0.14        59        2048         0         0         0  ...   \n",
      "3  192.168.0.14        48        2048         0         0         0  ...   \n",
      "4  192.168.0.14       313        2048         0         0         0  ...   \n",
      "\n",
      "   pck_size_std_9  ts_mean_9  ts_std_9  TCP_window_mean_9  TCP_window_std_9  \\\n",
      "0             0.0        0.0       0.0                0.0               0.0   \n",
      "1             0.0        0.0       0.0                0.0               0.0   \n",
      "2             0.0        0.0       0.0                0.0               0.0   \n",
      "3             0.0        0.0       0.0                0.0               0.0   \n",
      "4             0.0        0.0       0.0                0.0               0.0   \n",
      "\n",
      "   payload_bytes_mean_9  payload_bytes_std_9  entropy_mean_9  entropy_std_9  \\\n",
      "0                   0.0                  0.0             0.0            0.0   \n",
      "1                   0.0                  0.0             0.0            0.0   \n",
      "2                   0.0                  0.0             0.0            0.0   \n",
      "3                   0.0                  0.0             0.0            0.0   \n",
      "4                   0.0                  0.0             0.0            0.0   \n",
      "\n",
      "   Label  \n",
      "0      0  \n",
      "1      0  \n",
      "2      0  \n",
      "3      0  \n",
      "4      0  \n",
      "\n",
      "[5 rows x 188 columns]\n"
     ]
    }
   ],
   "source": [
    "# Giả sử bạn có một DataFrame chứa dữ liệu và nhãn\n",
    "#  47 49\n",
    "df = pd.read_csv('INPUT/VAL/VAL-SYN.csv')\n",
    "# Chuyển nhãn thành 0 và 1\n",
    "df['Label'] = df['Label'].map({'Benign': 0, 'SYN-Flooding': 1})\n",
    "\n",
    "print(df.head())\n",
    "df.to_csv('syn_flood_data.csv', index=False)"
   ]
  },
  {
   "cell_type": "code",
   "execution_count": 1,
   "metadata": {},
   "outputs": [],
   "source": [
    "columns_to_check = [\n",
    "        \"ts\",\n",
    "        \"IP_flags\",\n",
    "        \"IP_DF\",\n",
    "        \"TCP_dataofs\",\n",
    "        \"TCP_SYN\",\n",
    "        \"TCP_ACK\",\n",
    "        \"sport_class\",\n",
    "        \"dst_IP_diversity\",\n",
    "        \"dst_port_diversity\",\n",
    "        \"pck_size_sum_of_EW\",\n",
    "        \"ts_diff\",\n",
    "        \"ts_std_WE\",\n",
    "        \"ts_sum_of_EW\",\n",
    "        \"TCP_window_std_WE\",\n",
    "        \"pck_size_mean_2\",\n",
    "        \"ts_mean_2\",\n",
    "        \"ts_std_2\",\n",
    "        \"TCP_window_mean_2\",\n",
    "        \"TCP_SYN_sum\",\n",
    "        \"TCP_ACK_sum\",\n",
    "        \"TCP_SYN_ratio\",\n",
    "        \"TCP_ACK_SR\",\n",
    "        \"ts_mean_6\",\n",
    "        \"ts_std_6\",\n",
    "        \"pck_size_mean_9\",\n",
    "        \"ts_mean_9\",\n",
    "        \"ts_std_9\",\n",
    "        \"TCP_window_mean_9\",\n",
    "        \"TCP_ACK_R\",\n",
    "        \"Label\"\n",
    "]"
   ]
  },
  {
   "cell_type": "code",
   "execution_count": 5,
   "metadata": {},
   "outputs": [
    {
     "name": "stdout",
     "output_type": "stream",
     "text": [
      "<class 'pandas.core.series.Series'>\n",
      "RangeIndex: 40788 entries, 0 to 40787\n",
      "Series name: None\n",
      "Non-Null Count  Dtype\n",
      "--------------  -----\n",
      "40788 non-null  int8 \n",
      "dtypes: int8(1)\n",
      "memory usage: 40.0 KB\n"
     ]
    },
    {
     "name": "stderr",
     "output_type": "stream",
     "text": [
      "C:\\Users\\NHAT\\AppData\\Local\\Temp\\ipykernel_3024\\660551992.py:1: DtypeWarning: Columns (39) have mixed types. Specify dtype option on import or set low_memory=False.\n",
      "  df = pd.read_csv('INPUT/SM/DoS-SYN-1.csv')\n"
     ]
    }
   ],
   "source": [
    "df = pd.read_csv('INPUT/SM/DoS-SYN-1.csv')\n",
    "df['Label'] = df['Label'].astype('category')\n",
    "y_train=df['Label'].cat.codes  \n",
    "y_train.info()"
   ]
  },
  {
   "cell_type": "code",
   "execution_count": 5,
   "metadata": {},
   "outputs": [
    {
     "name": "stdout",
     "output_type": "stream",
     "text": [
      "['ts', 'IP_flags', 'IP_DF', 'TCP_dataofs', 'TCP_SYN', 'TCP_ACK', 'sport_class', 'dst_IP_diversity', 'dst_port_diversity', 'pck_size_sum_of_EW', 'ts_diff', 'ts_std_WE', 'ts_sum_of_EW', 'TCP_window_std_WE', 'pck_size_mean_2', 'ts_mean_2', 'ts_std_2', 'TCP_window_mean_2', 'TCP_SYN_sum', 'TCP_ACK_sum', 'TCP_SYN_ratio', 'TCP_ACK_SR', 'ts_mean_6', 'ts_std_6', 'pck_size_mean_9', 'ts_mean_9', 'ts_std_9', 'TCP_window_mean_9', 'TCP_ACK_R', 'Label']\n",
      "['ts', 'IP_flags', 'IP_DF', 'TCP_dataofs', 'TCP_SYN', 'TCP_ACK', 'sport_class', 'dst_IP_diversity', 'dst_port_diversity', 'pck_size_sum_of_EW', 'ts_diff', 'ts_std_WE', 'ts_sum_of_EW', 'TCP_window_std_WE', 'pck_size_mean_2', 'ts_mean_2', 'ts_std_2', 'TCP_window_mean_2', 'TCP_SYN_sum', 'TCP_ACK_sum', 'TCP_SYN_ratio', 'TCP_ACK_SR', 'ts_mean_6', 'ts_std_6', 'pck_size_mean_9', 'ts_mean_9', 'ts_std_9', 'TCP_window_mean_9', 'TCP_ACK_R', 'Label']\n"
     ]
    }
   ],
   "source": [
    "d = pd.read_csv('INPUT/SM/DoS-SYN-1.csv',usecols=columns_to_check)\n",
    "d1 = pd.read_csv('INPUT/VAL/VAL-SYN.csv',usecols=columns_to_check)\n",
    "d = d[columns_to_check]\n",
    "d1 = d1[columns_to_check]\n",
    "# d1 = pd.read_csv('INPUT/VAL/VAL-SYN.csv',usecols=columns_to_check)\n",
    "\n",
    "# print(len(d.columns))\n",
    "# print(len(d1.columns))\n",
    "print(d.columns.tolist())\n",
    "print(d1.columns.tolist())\n",
    "# print(d.columns)\n",
    "# print(d1.columns)\n"
   ]
  }
 ],
 "metadata": {
  "kernelspec": {
   "display_name": "base",
   "language": "python",
   "name": "python3"
  },
  "language_info": {
   "codemirror_mode": {
    "name": "ipython",
    "version": 3
   },
   "file_extension": ".py",
   "mimetype": "text/x-python",
   "name": "python",
   "nbconvert_exporter": "python",
   "pygments_lexer": "ipython3",
   "version": "3.12.3"
  }
 },
 "nbformat": 4,
 "nbformat_minor": 2
}
